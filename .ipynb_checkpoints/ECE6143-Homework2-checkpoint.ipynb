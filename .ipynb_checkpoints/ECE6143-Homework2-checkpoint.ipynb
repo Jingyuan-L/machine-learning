{
 "cells": [
  {
   "cell_type": "code",
   "execution_count": 1,
   "metadata": {},
   "outputs": [
    {
     "name": "stdout",
     "output_type": "stream",
     "text": [
      "(442, 11)\n"
     ]
    },
    {
     "data": {
      "text/plain": [
       "array([-65864.82241658,   -302.84924175,    -69.26606644,   -947.92776758,\n",
       "         -714.18126816,   -339.43281931,   -277.87348277,    637.58510397,\n",
       "         -693.22243158,   -913.47174875,   -617.0638297 ])"
      ]
     },
     "execution_count": 1,
     "metadata": {},
     "output_type": "execute_result"
    }
   ],
   "source": [
    "#question3\n",
    "\n",
    "import numpy as np\n",
    "import pandas as pd\n",
    "import matplotlib.pyplot as plt\n",
    "\n",
    "#import dataset\n",
    "from sklearn import datasets\n",
    "diabetes = datasets.load_diabetes()\n",
    "X = diabetes.data\n",
    "y = diabetes.target\n",
    "\n",
    "#add a all-one column as the first collumn of X\n",
    "#it is to figure out the intercept of the linear model\n",
    "n,d = X.shape\n",
    "onelist = np.array(np.ones(n))\n",
    "X = np.c_[onelist.T, X]\n",
    "print(X.shape)\n",
    "\n",
    "#Functions of calculating the MSE and gradient of MSE\n",
    "def MSE(X,y,w):\n",
    "    return 0.5*np.linalg.norm(y-X.dot(w))**2\n",
    "\n",
    "def gradMSE(X, y, w):\n",
    "    return X.T.dot(X.dot(w)-y)\n",
    "\n",
    "#randomly choose a initial value of w\n",
    "w0 = np.random.normal(0,1,X.shape[1])\n",
    "#print(w0)\n",
    "\n",
    "#MSE(X, y, w0)\n",
    "gradMSE(X, y, w0)\n"
   ]
  },
  {
   "cell_type": "code",
   "execution_count": 6,
   "metadata": {
    "scrolled": true
   },
   "outputs": [
    {
     "name": "stdout",
     "output_type": "stream",
     "text": [
      "intercept =  152.1334841628964\n",
      "coef      =  [  -6.4497823  -236.81345314  528.58423161  321.88990665  -73.05675073\n",
      " -107.66453049 -204.31580136  114.63473864  470.54312915   74.7673371 ]\n",
      "\n",
      "RSS per sample = 0.485679\n",
      "R^2 =            0.514321\n"
     ]
    },
    {
     "data": {
      "image/png": "[encoded data removed]",
      "text/plain": [
       "<Figure size 360x360 with 1 Axes>"
      ]
     },
     "metadata": {
      "needs_background": "light"
     },
     "output_type": "display_data"
    }
   ],
   "source": [
    "#The function of gradient descent\n",
    "def gradient_descent(X, y, w0, eta, tau):\n",
    "    #w1 = np.zeros(w0.shape)\n",
    "    loss = np.zeros(tau)\n",
    "    \n",
    "    for i in range(tau):\n",
    "        w1 = w0 - eta*gradMSE(X, y, w0)\n",
    "        w0 = w1\n",
    "        #print(w0)\n",
    "        loss[i] = MSE(X, y, w0)\n",
    "        if np.abs(loss[i] - loss[i-1]) < 0.1:\n",
    "            break\n",
    "        \n",
    "    return w0, loss, i\n",
    "\n",
    "coefs, loss, t= gradient_descent(X, y, w0, 0.001, 10000)\n",
    "print(\"intercept = \", coefs[0])\n",
    "print(\"coef      = \", coefs[1:11])\n",
    "\n",
    "y_pred = X.dot(coefs)\n",
    "RSS = np.mean((y_pred - y)**2)/(np.std(y)**2)\n",
    "Rsq = 1-RSS\n",
    "print(\"\\nRSS per sample = {0:f}\" .format(RSS))\n",
    "print(\"R^2 =            {0:f}\" .format(Rsq))\n",
    "\n",
    "def error_plot(y, yscale='log'):\n",
    "    plt.figure(figsize=(5,5))\n",
    "    plt.xlabel('Iteration')\n",
    "    plt.ylabel('Error')\n",
    "    plt.yscale(yscale)\n",
    "    plt.plot(range(t),y[:t])\n",
    "\n",
    "error_plot(loss)\n"
   ]
  },
  {
   "cell_type": "code",
   "execution_count": 175,
   "metadata": {},
   "outputs": [
    {
     "name": "stdout",
     "output_type": "stream",
     "text": [
      "MSE of the training data:  0.010936466882766276\n",
      "MSE of the testing data:  0.009723098281465465\n"
     ]
    }
   ],
   "source": [
    "#question4\n",
    "\n",
    "#read dataset\n",
    "import pandas as pd\n",
    "names = [\n",
    "    't',\n",
    "    'q1', 'q2', 'q3',\n",
    "    'dq1', 'dq2', 'dq3',\n",
    "    'I1', 'I2', 'I3',\n",
    "    'eps21', 'eps22', 'eps31', 'eps32',\n",
    "    'ddq1', 'ddq2', 'ddq3'\n",
    "]\n",
    "df = pd.read_csv('exp_train.csv', header=None, sep=',', \n",
    "                 names=names, index_col=0)\n",
    "df.head(6)\n",
    "\n",
    "y = np.array(df['I2'])\n",
    "X = np.matrix(df[['q2', 'dq2', 'eps21', 'eps22', 'eps31', 'eps32', 'ddq2']])\n",
    "\n",
    "#training the linear model using sklearn\n",
    "from sklearn import linear_model, metrics\n",
    "\n",
    "regr = linear_model.LinearRegression()\n",
    "regr.fit(X, y)\n",
    "\n",
    "y_pred = regr.predict(X)\n",
    "train_MSE1 = metrics.mean_squared_error(y, y_pred)\n",
    "train_MSE2 = MSE(X, y_pred, regr.coef_)\n",
    "print(\"MSE of the training data: \", train_MSE1)\n",
    "\n",
    "#test the linear model performance on test dataset\n",
    "df_test = pd.read_csv('exp_test.csv', header=None, sep=',', \n",
    "                 names=names, index_col=0)\n",
    "y_test = np.array(df_test['I2'])\n",
    "X_test = np.matrix(df_test[['q2', 'dq2', 'eps21', 'eps22', \n",
    "                            'eps31', 'eps32', 'ddq2']])\n",
    "y_test_pred = regr.predict(X_test)\n",
    "test_MSE1 = metrics.mean_squared_error(y_test, y_test_pred)\n",
    "test_MSE2 = MSE(X_test, y_test_pred, regr.coef_)\n",
    "print(\"MSE of the testing data: \", test_MSE1)"
   ]
  },
  {
   "cell_type": "code",
   "execution_count": null,
   "metadata": {},
   "outputs": [],
   "source": [
    "#question5\n",
    "#1+1+2+1 = 5 hours"
   ]
  }
 ],
 "metadata": {
  "kernelspec": {
   "display_name": "Python 3",
   "language": "python",
   "name": "python3"
  },
  "language_info": {
   "codemirror_mode": {
    "name": "ipython",
    "version": 3
   },
   "file_extension": ".py",
   "mimetype": "text/x-python",
   "name": "python",
   "nbconvert_exporter": "python",
   "pygments_lexer": "ipython3",
   "version": "3.7.4"
  }
 },
 "nbformat": 4,
 "nbformat_minor": 2
}
