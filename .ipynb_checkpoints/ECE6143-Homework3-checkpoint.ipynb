{
 "cells": [
  {
   "cell_type": "code",
   "execution_count": 1,
   "metadata": {},
   "outputs": [
    {
     "data": {
      "text/html": [
       "<div>\n",
       "<style scoped>\n",
       "    .dataframe tbody tr th:only-of-type {\n",
       "        vertical-align: middle;\n",
       "    }\n",
       "\n",
       "    .dataframe tbody tr th {\n",
       "        vertical-align: top;\n",
       "    }\n",
       "\n",
       "    .dataframe thead th {\n",
       "        text-align: right;\n",
       "    }\n",
       "</style>\n",
       "<table border=\"1\" class=\"dataframe\">\n",
       "  <thead>\n",
       "    <tr style=\"text-align: right;\">\n",
       "      <th></th>\n",
       "      <th>CRIM</th>\n",
       "      <th>ZN</th>\n",
       "      <th>INDUS</th>\n",
       "      <th>CHAS</th>\n",
       "      <th>NOX</th>\n",
       "      <th>RM</th>\n",
       "      <th>AGE</th>\n",
       "      <th>DIS</th>\n",
       "      <th>RAD</th>\n",
       "      <th>TAX</th>\n",
       "      <th>PTRATIO</th>\n",
       "      <th>B</th>\n",
       "      <th>LSTAT</th>\n",
       "      <th>MEDV</th>\n",
       "    </tr>\n",
       "  </thead>\n",
       "  <tbody>\n",
       "    <tr>\n",
       "      <td>0</td>\n",
       "      <td>0.00632</td>\n",
       "      <td>18.0</td>\n",
       "      <td>2.31</td>\n",
       "      <td>0.0</td>\n",
       "      <td>0.538</td>\n",
       "      <td>6.575</td>\n",
       "      <td>65.2</td>\n",
       "      <td>4.0900</td>\n",
       "      <td>1.0</td>\n",
       "      <td>296.0</td>\n",
       "      <td>15.3</td>\n",
       "      <td>396.90</td>\n",
       "      <td>4.98</td>\n",
       "      <td>24.0</td>\n",
       "    </tr>\n",
       "    <tr>\n",
       "      <td>1</td>\n",
       "      <td>0.02731</td>\n",
       "      <td>0.0</td>\n",
       "      <td>7.07</td>\n",
       "      <td>0.0</td>\n",
       "      <td>0.469</td>\n",
       "      <td>6.421</td>\n",
       "      <td>78.9</td>\n",
       "      <td>4.9671</td>\n",
       "      <td>2.0</td>\n",
       "      <td>242.0</td>\n",
       "      <td>17.8</td>\n",
       "      <td>396.90</td>\n",
       "      <td>9.14</td>\n",
       "      <td>21.6</td>\n",
       "    </tr>\n",
       "    <tr>\n",
       "      <td>2</td>\n",
       "      <td>0.02729</td>\n",
       "      <td>0.0</td>\n",
       "      <td>7.07</td>\n",
       "      <td>0.0</td>\n",
       "      <td>0.469</td>\n",
       "      <td>7.185</td>\n",
       "      <td>61.1</td>\n",
       "      <td>4.9671</td>\n",
       "      <td>2.0</td>\n",
       "      <td>242.0</td>\n",
       "      <td>17.8</td>\n",
       "      <td>392.83</td>\n",
       "      <td>4.03</td>\n",
       "      <td>34.7</td>\n",
       "    </tr>\n",
       "    <tr>\n",
       "      <td>3</td>\n",
       "      <td>0.03237</td>\n",
       "      <td>0.0</td>\n",
       "      <td>2.18</td>\n",
       "      <td>0.0</td>\n",
       "      <td>0.458</td>\n",
       "      <td>6.998</td>\n",
       "      <td>45.8</td>\n",
       "      <td>6.0622</td>\n",
       "      <td>3.0</td>\n",
       "      <td>222.0</td>\n",
       "      <td>18.7</td>\n",
       "      <td>394.63</td>\n",
       "      <td>2.94</td>\n",
       "      <td>33.4</td>\n",
       "    </tr>\n",
       "    <tr>\n",
       "      <td>4</td>\n",
       "      <td>0.06905</td>\n",
       "      <td>0.0</td>\n",
       "      <td>2.18</td>\n",
       "      <td>0.0</td>\n",
       "      <td>0.458</td>\n",
       "      <td>7.147</td>\n",
       "      <td>54.2</td>\n",
       "      <td>6.0622</td>\n",
       "      <td>3.0</td>\n",
       "      <td>222.0</td>\n",
       "      <td>18.7</td>\n",
       "      <td>396.90</td>\n",
       "      <td>5.33</td>\n",
       "      <td>36.2</td>\n",
       "    </tr>\n",
       "  </tbody>\n",
       "</table>\n",
       "</div>"
      ],
      "text/plain": [
       "      CRIM    ZN  INDUS  CHAS    NOX     RM   AGE     DIS  RAD    TAX  \\\n",
       "0  0.00632  18.0   2.31   0.0  0.538  6.575  65.2  4.0900  1.0  296.0   \n",
       "1  0.02731   0.0   7.07   0.0  0.469  6.421  78.9  4.9671  2.0  242.0   \n",
       "2  0.02729   0.0   7.07   0.0  0.469  7.185  61.1  4.9671  2.0  242.0   \n",
       "3  0.03237   0.0   2.18   0.0  0.458  6.998  45.8  6.0622  3.0  222.0   \n",
       "4  0.06905   0.0   2.18   0.0  0.458  7.147  54.2  6.0622  3.0  222.0   \n",
       "\n",
       "   PTRATIO       B  LSTAT  MEDV  \n",
       "0     15.3  396.90   4.98  24.0  \n",
       "1     17.8  396.90   9.14  21.6  \n",
       "2     17.8  392.83   4.03  34.7  \n",
       "3     18.7  394.63   2.94  33.4  \n",
       "4     18.7  396.90   5.33  36.2  "
      ]
     },
     "execution_count": 1,
     "metadata": {},
     "output_type": "execute_result"
    }
   ],
   "source": [
    "#question 2\n",
    "#import dataset\n",
    "import pandas as pd\n",
    "import numpy as np\n",
    "from sklearn.datasets import load_boston\n",
    "\n",
    "boston_dataset = load_boston()\n",
    "boston = pd.DataFrame(boston_dataset.data, columns = boston_dataset.feature_names)\n",
    "boston['MEDV'] = boston_dataset.target\n",
    "boston.head()\n"
   ]
  },
  {
   "cell_type": "code",
   "execution_count": 11,
   "metadata": {},
   "outputs": [
    {
     "name": "stdout",
     "output_type": "stream",
     "text": [
      "When alpha = 0.1, 0.2, ... , 0.9, 1, the mean of 10-fold cross validation on 80-20 train-test splits R^2 values are:\n",
      "[0.71075085 0.72912797 0.71639887 0.67436261 0.70070417 0.71309898\n",
      " 0.71021473 0.74199932 0.74104063 0.72302204]\n"
     ]
    }
   ],
   "source": [
    "from sklearn import linear_model\n",
    "from sklearn.model_selection import train_test_split\n",
    "\n",
    "\n",
    "X = boston[['CRIM', 'ZN', 'INDUS', 'CHAS', 'NOX', 'RM', 'AGE', 'DIS', 'RAD', 'TAX', 'PTRATIO', 'B', 'LSTAT']]\n",
    "y = boston[['MEDV']]\n",
    "#normalization\n",
    "X = (X - np.min(X)) / (np.max(X) - np.min(X))\n",
    "y = (y - np.min(y)) / (np.max(y) - np.min(y))\n",
    "\n",
    "#try 9 values of alpha \n",
    "R2 = [] #10*10 R^2 value of each fold of each alpha\n",
    "\n",
    "n = 0\n",
    "for a in [0.1, 0.2, 0.3, 0.4, 0.5, 0.6, 0.7, 0.8, 0.9, 1]:\n",
    "    R2.append([])\n",
    "#10-fold cross validation on 80-20 train-test splits\n",
    "    for i in range(10):\n",
    "        x_train, x_test, y_train, y_test = train_test_split(X, y, test_size=0.2)\n",
    "        ridge = linear_model.Ridge(alpha = a)\n",
    "        ridge.fit(x_train, y_train)\n",
    "        score = ridge.score(x_test, y_test)\n",
    "        R2[n].append(score)\n",
    "    n += 1\n",
    "#print(R2)        \n",
    "\n",
    "#calculate the mean of R^2 of each alpha values test\n",
    "mean_of_R2 = np.mean(R2, axis = 1)\n",
    "print(\"When alpha = 0.1, 0.2, ... , 0.9, 1, the mean of 10-fold cross validation on 80-20 train-test splits R^2 values are:\")\n",
    "print(mean_of_R2)\n"
   ]
  },
  {
   "cell_type": "code",
   "execution_count": 4,
   "metadata": {
    "scrolled": false
   },
   "outputs": [
    {
     "name": "stdout",
     "output_type": "stream",
     "text": [
      "(200, 2)\n"
     ]
    },
    {
     "data": {
      "image/png": "[encoded data removed]",
      "text/plain": [
       "<Figure size 432x288 with 1 Axes>"
      ]
     },
     "metadata": {
      "needs_background": "light"
     },
     "output_type": "display_data"
    }
   ],
   "source": [
    "#question 4\n",
    "import matplotlib.pyplot as plt\n",
    "import math\n",
    "import time\n",
    "\n",
    "# a\n",
    "#generate two clusters of data pointsx and plot\n",
    "x1 = list(np.random.normal(0.5, 0.3, [2,100]))\n",
    "x2 = list(np.random.normal(-0.5, 0.3, [2,100]))\n",
    "x = np.hstack((x1, x2)).T\n",
    "print(x.shape)\n",
    "\n",
    "y1 = [[1] * 100]\n",
    "y2 = [[0] * 100]\n",
    "y = np.hstack((y1, y2)).T\n",
    "#print(y.shape)\n",
    "\n",
    "plt.title('original data point')\n",
    "plt.plot(x1[0], x1[1], 'o')\n",
    "plt.plot(x2[0], x2[1], 'o')\n",
    "plt.grid(True)\n"
   ]
  },
  {
   "cell_type": "code",
   "execution_count": 5,
   "metadata": {},
   "outputs": [
    {
     "name": "stdout",
     "output_type": "stream",
     "text": [
      "GD Logistic Regression\n",
      "coef      =  [-0.69145538  8.41198747 14.5479045 ]\n",
      "iteration =  4999\n",
      "Total CPU time of GD is:  25.449107400000003\n"
     ]
    },
    {
     "data": {
      "image/png": "[encoded data removed]",
      "text/plain": [
       "<Figure size 360x360 with 1 Axes>"
      ]
     },
     "metadata": {
      "needs_background": "light"
     },
     "output_type": "display_data"
    }
   ],
   "source": [
    "# b\n",
    "def sigmoid(z):\n",
    "    return 1/(1 + math.exp(-z))\n",
    "\n",
    "def L(x, y, w):\n",
    "    n, d = x.shape\n",
    "    sumL = 0\n",
    "    for i in range(n):\n",
    "        l = -(y[i] * math.log(sigmoid(w.dot(x[i]))) + (1 - y[i]) * math.log(1 - sigmoid(w.dot(x[i]))))\n",
    "        sumL += l\n",
    "    return sumL\n",
    "    \n",
    "def gradL(x, y, w):\n",
    "    n, d = x.shape\n",
    "    gradL_vector = []\n",
    "    for i in range(d):\n",
    "        sum_dev = 0\n",
    "        for j in range(n):\n",
    "            #print(i,j)\n",
    "            dev = (sigmoid(w.dot(x[j])) - y[j]) * x[j][i]\n",
    "            sum_dev += dev\n",
    "        gradL_vector.append(float(sum_dev))\n",
    "        \n",
    "    #print(gradL_vector)\n",
    "    return np.array(gradL_vector)\n",
    "\n",
    "def gradient_descent(X, y, w0, eta, tau):\n",
    "    loss = np.zeros(tau)\n",
    "    \n",
    "    for i in range(tau):\n",
    "        w1 = w0 - eta * gradL(X, y, w0)\n",
    "        w0 = w1\n",
    "        #print(w0)\n",
    "        loss[i] = L(X, y, w0)\n",
    "        #if np.abs(loss[i] - loss[i-1]) < 0.001:\n",
    "        #    break\n",
    "        \n",
    "    return w0, loss, i\n",
    "\n",
    "\n",
    "n,d = x.shape\n",
    "onelist = np.array(np.ones(n))\n",
    "x = np.hstack((x1, x2)).T\n",
    "x = np.c_[onelist.T, x]\n",
    "w0 = np.random.normal(0,1, x.shape[1])\n",
    "\n",
    "#calculate the CPU time of GD\n",
    "start_GD = time.perf_counter()\n",
    "coefs, loss, t= gradient_descent(x, y, w0, 0.01, 5000)\n",
    "end_GD = time.perf_counter()\n",
    "time_GD = end_GD - start_GD\n",
    "\n",
    "print(\"GD Logistic Regression\")\n",
    "print(\"coef      = \", coefs)\n",
    "print(\"iteration = \", t)\n",
    "print(\"Total CPU time of GD is: \", time_GD)\n",
    "\n",
    "\n",
    "def error_plot(y, yscale='log'):\n",
    "    plt.figure(figsize=(5,5))\n",
    "    plt.title('The decay of the training loss function')\n",
    "    plt.xlabel('Iteration')\n",
    "    plt.ylabel('Error')\n",
    "    plt.yscale(yscale)\n",
    "    plt.plot(range(t),y[:t])\n",
    "\n",
    "error_plot(loss)\n"
   ]
  },
  {
   "cell_type": "code",
   "execution_count": 8,
   "metadata": {
    "scrolled": true
   },
   "outputs": [
    {
     "name": "stdout",
     "output_type": "stream",
     "text": [
      "SGD Logistic Regression\n",
      "coef      =  [-0.12557303  3.36246873  2.81465892]\n",
      "iteration =  4999\n",
      "Total CPU time of GD is:  7.726625400000017\n",
      "\n",
      "Demonstrate that SGD is faster per-iteration than GD\n",
      "CPU time per-iteration of GD:  0.0050908396479295865\n",
      "CPU time per-iteration of SGD:  0.0015456342068413717\n"
     ]
    },
    {
     "data": {
      "image/png": "[encoded data removed]",
      "text/plain": [
       "<Figure size 360x360 with 1 Axes>"
      ]
     },
     "metadata": {
      "needs_background": "light"
     },
     "output_type": "display_data"
    }
   ],
   "source": [
    "# c\n",
    "\n",
    "def L_SGD(x, y, w):\n",
    "    return -(y * math.log(sigmoid(w.dot(x))) + (1 - y) * math.log(1 - sigmoid(w.dot(x))))\n",
    "\n",
    "\n",
    "\n",
    "def gradL_SGD(x, y, w):\n",
    "    d = len(x)\n",
    "    #print(d)\n",
    "    gradL_vector = []\n",
    "    for i in range(d):\n",
    "        sum_dev = 0\n",
    "        dev = (sigmoid(w.dot(x)) - y) * x[i]\n",
    "        \n",
    "        sum_dev += dev\n",
    "        gradL_vector.append(float(sum_dev))\n",
    "        \n",
    "    #print(gradL_vector)\n",
    "    return np.array(gradL_vector)\n",
    "\n",
    "\n",
    "def SGD(x, y, w0, eta, tau):\n",
    "    loss = np.zeros(tau)\n",
    "    \n",
    "    \n",
    "    for i in range(tau):\n",
    "        index = np.random.randint(0, len(x))\n",
    "        w1 = w0 - eta * gradL_SGD(x[index], y[index], w0)\n",
    "        w0 = w1\n",
    "        #print(w0)\n",
    "        loss[i] = L(x, y, w0)\n",
    "        #if np.abs(loss[i] - loss[i-1]) < 0.001/200:\n",
    "        #    break\n",
    "        \n",
    "    return w0, loss, i\n",
    "\n",
    "w0 = np.random.normal(0,1, x.shape[1])\n",
    "start_SGD = time.perf_counter()\n",
    "coefs2, loss2, t2= SGD(x, y, w0, 0.01, 5000)\n",
    "end_SGD = time.perf_counter()\n",
    "time_SGD = end_SGD - start_SGD\n",
    "print(\"SGD Logistic Regression\")\n",
    "print(\"coef      = \", coefs2)\n",
    "print(\"iteration = \", t2)\n",
    "print(\"Total CPU time of GD is: \", time_SGD)\n",
    "\n",
    "\n",
    "plt.figure(figsize=(5,5))\n",
    "plt.title('speed of convergence')\n",
    "plt.xlabel('Iteration')\n",
    "plt.ylabel('Error')\n",
    "plt.yscale('log')\n",
    "plt.axis([-100, 5000, 1, 300])\n",
    "plt.plot(range(t2),loss2[:t2] )\n",
    "plt.plot(range(t),loss[:t])\n",
    "plt.legend(['SGD', 'GD'])\n",
    "\n",
    "print(\"\")\n",
    "print(\"Demonstrate that SGD is faster per-iteration than GD\")\n",
    "print(\"CPU time per-iteration of GD: \", time_GD/t)\n",
    "print(\"CPU time per-iteration of SGD: \",time_SGD/t2)"
   ]
  },
  {
   "cell_type": "code",
   "execution_count": 9,
   "metadata": {
    "scrolled": true
   },
   "outputs": [
    {
     "data": {
      "image/png": "[encoded data removed]",
      "text/plain": [
       "<Figure size 432x288 with 1 Axes>"
      ]
     },
     "metadata": {
      "needs_background": "light"
     },
     "output_type": "display_data"
    }
   ],
   "source": [
    "\n",
    "# d\n",
    "#\n",
    "plt.figure(1)\n",
    "plt.axis([-1.5, 2, -2, 1.5])\n",
    "plt.plot(x1[0], x1[1], 'o')\n",
    "plt.plot(x2[0], x2[1], 'o')\n",
    "\n",
    "x1model = np.array([-1,1,0.1])\n",
    "x2model = (-coefs[0] - coefs[1]* x1model) / coefs[2]\n",
    "plt.plot(x1model, x2model, 'c')\n",
    "\n",
    "x1model2 = np.array([-1,1,0.1])\n",
    "x2model2 = (-coefs2[0] - coefs2[1]* x1model) / coefs2[2]\n",
    "plt.plot(x1model2, x2model2, 'm')\n",
    "\n",
    "plt.legend(['origin label 1', 'origin label 0', 'GD-Logistic Regression', 'SGD-Logistic Regression'])\n",
    "plt.grid(True)\n",
    "\n",
    "\n"
   ]
  },
  {
   "cell_type": "code",
   "execution_count": null,
   "metadata": {},
   "outputs": [],
   "source": [
    "# question5 \n",
    "# I spent 1 + 1 + 1 + 4 = 7 hours on this assignment."
   ]
  }
 ],
 "metadata": {
  "kernelspec": {
   "display_name": "Python 3",
   "language": "python",
   "name": "python3"
  },
  "language_info": {
   "codemirror_mode": {
    "name": "ipython",
    "version": 3
   },
   "file_extension": ".py",
   "mimetype": "text/x-python",
   "name": "python",
   "nbconvert_exporter": "python",
   "pygments_lexer": "ipython3",
   "version": "3.7.4"
  }
 },
 "nbformat": 4,
 "nbformat_minor": 2
}
