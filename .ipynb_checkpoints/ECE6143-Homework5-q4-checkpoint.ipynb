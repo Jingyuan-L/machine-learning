{
 "cells": [
  {
   "cell_type": "code",
   "execution_count": 59,
   "metadata": {},
   "outputs": [],
   "source": [
    "#question 4\n",
    "import torchvision\n",
    "from torchvision import datasets, models, transforms\n",
    "transforms = transforms.Compose([\n",
    "transforms.Resize(256),\n",
    "transforms.CenterCrop(224),\n",
    "transforms.ToTensor(),\n",
    "transforms.Normalize([0.485, 0.456, 0.406],\n",
    "[0.229, 0.224, 0.225])\n",
    "])\n",
    "train_set = datasets.ImageFolder(\"data/train\",transforms)\n",
    "val_set = datasets.ImageFolder(\"data/val\",transforms)\n",
    "model = models.resnet34(pretrained=True)\n"
   ]
  },
  {
   "cell_type": "code",
   "execution_count": 60,
   "metadata": {},
   "outputs": [],
   "source": [
    "#Load data\n",
    "trainDataLoader = torch.utils.data.DataLoader(train_set, batch_size=16, shuffle=True)\n",
    "testDataLoader = torch.utils.data.DataLoader(val_set, batch_size=16, shuffle=True)"
   ]
  },
  {
   "cell_type": "code",
   "execution_count": 61,
   "metadata": {},
   "outputs": [],
   "source": [
    "# Modify the last layer to reduce to two classes\n",
    "import torch.nn as nn\n",
    "fc_features = model.fc.in_features\n",
    "model.fc = nn.Linear(fc_features, 2)\n"
   ]
  },
  {
   "cell_type": "code",
   "execution_count": 62,
   "metadata": {},
   "outputs": [
    {
     "name": "stdout",
     "output_type": "stream",
     "text": [
      "Epoch 0, Train loss 5.912672147154808, Test loss 6.4493908286094666\n",
      "Epoch 1, Train loss 5.580612480640411, Test loss 9.360929489135742\n",
      "Epoch 2, Train loss 5.23075795173645, Test loss 4.383044719696045\n",
      "Epoch 3, Train loss 2.2304809391498566, Test loss 0.6866860091686249\n",
      "Epoch 4, Train loss 1.7485130205750465, Test loss 2.591944098472595\n",
      "Epoch 5, Train loss 1.9165803715586662, Test loss 2.69940984249115\n",
      "Epoch 6, Train loss 2.6500324010849, Test loss 6.068446636199951\n",
      "Epoch 7, Train loss 2.687300056219101, Test loss 2.518357992172241\n",
      "Epoch 8, Train loss 1.6594883054494858, Test loss 6.260555028915405\n",
      "Epoch 9, Train loss 2.4952383637428284, Test loss 1.4688552021980286\n",
      "Epoch 10, Train loss 0.8750230222940445, Test loss 0.9350690245628357\n",
      "Epoch 11, Train loss 0.656981885433197, Test loss 1.371483564376831\n",
      "Epoch 12, Train loss 1.746017411351204, Test loss 1.2741168141365051\n",
      "Epoch 13, Train loss 0.7497603744268417, Test loss 0.8794548213481903\n",
      "Epoch 14, Train loss 0.8812217116355896, Test loss 1.3363509774208069\n",
      "Epoch 15, Train loss 0.7416054159402847, Test loss 1.190723478794098\n",
      "Epoch 16, Train loss 0.6613700240850449, Test loss 0.7304711639881134\n",
      "Epoch 17, Train loss 0.6308140754699707, Test loss 1.379517823457718\n",
      "Epoch 18, Train loss 0.766402468085289, Test loss 1.4217481017112732\n",
      "Epoch 19, Train loss 0.6841999664902687, Test loss 1.168225735425949\n"
     ]
    }
   ],
   "source": [
    "# Train for 20 epochs\n",
    "Loss = torch.nn.CrossEntropyLoss()\n",
    "optimizer = torch.optim.SGD(model.parameters(), lr=0.1)\n",
    "                            \n",
    "train_loss_history = []\n",
    "test_loss_history = []\n",
    "num_epochs = 20\n",
    "\n",
    "\n",
    "for epoch in range(num_epochs):\n",
    "    train_loss = 0.0\n",
    "    test_loss = 0.0\n",
    "    for i, data in enumerate(trainDataLoader):\n",
    "        images, labels = data\n",
    "        optimizer.zero_grad()\n",
    "        predicted_output = model(images)\n",
    "        fit = Loss(predicted_output,labels)\n",
    "        fit.backward()\n",
    "        optimizer.step()\n",
    "        train_loss += fit.item()\n",
    "    for i, data in enumerate(testDataLoader):\n",
    "        with torch.no_grad():\n",
    "            images, labels = data\n",
    "            predicted_output = model(images)\n",
    "            fit = Loss(predicted_output,labels)\n",
    "            test_loss += fit.item()\n",
    "    train_loss = train_loss/len(trainDataLoader)\n",
    "    test_loss = test_loss/len(testDataLoader)\n",
    "    train_loss_history.append(train_loss)\n",
    "    test_loss_history.append(test_loss)\n",
    "    print('Epoch %s, Train loss %s, Test loss %s'%(epoch, train_loss, test_loss))"
   ]
  },
  {
   "cell_type": "code",
   "execution_count": 63,
   "metadata": {},
   "outputs": [
    {
     "data": {
      "text/plain": [
       "<matplotlib.legend.Legend at 0x238923b2d48>"
      ]
     },
     "execution_count": 63,
     "metadata": {},
     "output_type": "execute_result"
    },
    {
     "data": {
      "image/png": "[encoded data removed]",
      "text/plain": [
       "<Figure size 432x288 with 1 Axes>"
      ]
     },
     "metadata": {
      "needs_background": "light"
     },
     "output_type": "display_data"
    }
   ],
   "source": [
    "# Plot train and validation loss curves\n",
    "plt.plot(np.arange(num_epochs),train_loss_history,'-',linewidth=3,label='Train error')\n",
    "plt.plot(np.arange(num_epochs),test_loss_history,'-',linewidth=3,label='Test error')\n",
    "plt.xlabel('epoch')\n",
    "plt.ylabel('loss')\n",
    "plt.grid(True)\n",
    "plt.legend()"
   ]
  },
  {
   "cell_type": "code",
   "execution_count": 64,
   "metadata": {},
   "outputs": [
    {
     "name": "stdout",
     "output_type": "stream",
     "text": [
      "Train acc = 61.67, test acc = 58.33\n"
     ]
    }
   ],
   "source": [
    "def evaluate(dataloader):\n",
    "    total, correct = 0, 0\n",
    "    model.eval() # don't update weights\n",
    "    for data in dataloader:\n",
    "        images, labels = data\n",
    "        predicted_output = model(images)\n",
    "        _, predicted_labels = torch.max(predicted_output,1)\n",
    "        total += labels.size(0)\n",
    "        correct += (predicted_labels == labels).sum().item()\n",
    "    return 100 * correct/total\n",
    "\n",
    "print('Train acc = %0.2f, test acc = %0.2f' % (evaluate(trainDataLoader), evaluate(testDataLoader)))"
   ]
  },
  {
   "cell_type": "code",
   "execution_count": null,
   "metadata": {},
   "outputs": [],
   "source": []
  }
 ],
 "metadata": {
  "kernelspec": {
   "display_name": "Python 3",
   "language": "python",
   "name": "python3"
  },
  "language_info": {
   "codemirror_mode": {
    "name": "ipython",
    "version": 3
   },
   "file_extension": ".py",
   "mimetype": "text/x-python",
   "name": "python",
   "nbconvert_exporter": "python",
   "pygments_lexer": "ipython3",
   "version": "3.7.4"
  }
 },
 "nbformat": 4,
 "nbformat_minor": 2
}
