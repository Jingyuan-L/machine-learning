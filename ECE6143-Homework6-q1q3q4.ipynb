{
 "cells": [
  {
   "cell_type": "code",
   "execution_count": 31,
   "metadata": {},
   "outputs": [
    {
     "name": "stdout",
     "output_type": "stream",
     "text": [
      "Original data marix is:\n",
      "[[3 2 1]\n",
      " [2 4 5]\n",
      " [1 2 3]\n",
      " [0 2 5]]\n",
      "Sample mean of X is: [1.5 2.5 3.5]\n",
      "Zero-center the samples:\n",
      "[[ 1.5 -0.5 -2.5]\n",
      " [ 0.5  1.5  1.5]\n",
      " [-0.5 -0.5 -0.5]\n",
      " [-1.5 -0.5  1.5]]\n",
      "\n",
      "Data convariance matrix Q is:\n",
      "[[ 8.75 -3.75  0.75 -5.75]\n",
      " [-3.75  4.75 -1.75  0.75]\n",
      " [ 0.75 -1.75  0.75  0.25]\n",
      " [-5.75  0.75  0.25  4.75]]\n",
      "\n",
      "The eigenvalues if Q are:\n",
      "[1.42466586e+01 4.69352118e+00 7.58019546e-16 5.98202457e-02]\n",
      "\n",
      "The eigenvectors if Q are:\n",
      "[[ 0.78195148 -0.08128939  0.5         0.36324086]\n",
      " [-0.36324086 -0.78195148  0.5        -0.08128939]\n",
      " [ 0.08128939  0.36324086  0.5        -0.78195148]\n",
      " [-0.5         0.5         0.5         0.5       ]]\n",
      "\n",
      "PCA coefficients of X:\n",
      "[[ 0.45056922 -0.19247228 -0.87174641]\n",
      " [ 0.66677184  0.72187235  0.18524476]\n",
      " [-0.59363515  0.66472154 -0.45358856]]\n",
      "\n",
      "Reconstruction of the original samples:\n",
      "[[ 0.0950167   3.62930498]\n",
      " [-4.22748271  5.14725688]\n",
      " [-2.54961456  2.66625082]\n",
      " [-4.74367659  2.3699685 ]]\n",
      "Variance along top two principal components:  12.320394617696811\n"
     ]
    }
   ],
   "source": [
    "# question 1\n",
    "\n",
    "import numpy as np\n",
    "\n",
    "X = np.array([[3, 2, 1], [2, 4, 5], [1, 2, 3], [0, 2, 5]])\n",
    "print(\"Original data marix is:\")\n",
    "print(X)\n",
    "mean = np.mean(X, axis=0)\n",
    "print(\"Sample mean of X is:\", mean)\n",
    "X0 = X - mean\n",
    "print(\"Zero-center the samples:\")\n",
    "print(X0)\n",
    "convariance = X0.dot(X0.T)\n",
    "eigenvalues, eigenvectors = np.linalg.eig(convariance)\n",
    "print(\"\\nData convariance matrix Q is:\")\n",
    "print(convariance)\n",
    "print(\"\\nThe eigenvalues if Q are:\")\n",
    "print(eigenvalues)\n",
    "print(\"\\nThe eigenvectors if Q are:\")\n",
    "print(eigenvectors)\n",
    "\n",
    "from sklearn.decomposition import PCA\n",
    "pca3 = PCA(n_components=3)\n",
    "pca3.fit(X)\n",
    "a_3 = pca3.components_\n",
    "print(\"\\nPCA coefficients of X:\")\n",
    "print(a_3)\n",
    "\n",
    "pca2 = PCA(n_components=2)\n",
    "pca2.fit(X)\n",
    "a_2 = pca2.components_.T \n",
    "\n",
    "#Next we compute scores along first principal component\n",
    "scores_a_2 = np.matmul(X, a_2) #recall definition of f above\n",
    "print(\"\\nReconstruction of the original samples:\")\n",
    "print(scores_a_2)\n",
    "\n",
    "print(\"Variance along top two principal components: \", scores_a_2.var())"
   ]
  },
  {
   "cell_type": "code",
   "execution_count": 3,
   "metadata": {},
   "outputs": [],
   "source": [
    "# question 3\n",
    "import pandas as pd\n",
    "import numpy as np\n",
    "\n",
    "url_votes = 'https://raw.githubusercontent.com/exemplary-citizen/PCA-and-Senate-Voting-Data/master/senator_pca_problem/senator_data_pca/'\n",
    "senator_df =  pd.read_csv(url_votes + 'data_matrix.csv',error_bad_lines=False)\n",
    "af = pd.read_csv(url_votes + 'politician_labels.txt', header=None)\n",
    "af[\"affiliations\"] = af[0].str.split().str[-1]\n",
    "SV_X = np.array(senator_df.values[:, 3:].T, dtype='float64') #transpose to get senators as rows"
   ]
  },
  {
   "cell_type": "code",
   "execution_count": 4,
   "metadata": {},
   "outputs": [
    {
     "name": "stdout",
     "output_type": "stream",
     "text": [
      "The accuracy score of k-means learning is: 0.96\n",
      "The wrong clustering samples is: [21, 34, 58, 62]\n",
      "The original label of those wrong clustering samples is:\n",
      "Blue\n",
      "Yellow\n",
      "Red\n",
      "Yellow\n",
      "The reason why the algorithm make a mistake is that \n",
      "there are two samples which are not belong to the blue or red cluster,\n",
      "they may affect the clustering result.\n"
     ]
    }
   ],
   "source": [
    "from sklearn.cluster import KMeans\n",
    "import matplotlib.pyplot as plt\n",
    "\n",
    "kmeans = KMeans(2)\n",
    "labels = kmeans.fit(SV_X).predict(SV_X)\n",
    "\n",
    "#print(af[\"affiliations\"])\n",
    "\n",
    "correct_labels = []\n",
    "for i in range(len(af[\"affiliations\"])):\n",
    "    if  af[\"affiliations\"][i] == \"Red\":\n",
    "        correct_labels.append(1)\n",
    "    elif af[\"affiliations\"][i] == \"Blue\":\n",
    "        correct_labels.append(0)\n",
    "    else:\n",
    "        correct_labels.append(2)\n",
    "        \n",
    "#print(labels)\n",
    "#print(correct_labels)\n",
    "\n",
    "from sklearn.metrics import accuracy_score\n",
    "acc = accuracy_score(labels, correct_labels)\n",
    "print(\"The accuracy score of k-means learning is:\",acc)\n",
    "\n",
    "error_index = [i for i,label in enumerate(labels) if label != correct_labels[i]]\n",
    "print(\"The wrong clustering samples is:\",error_index)\n",
    "print(\"The original label of those wrong clustering samples is:\")\n",
    "for index in error_index:\n",
    "    print(af[\"affiliations\"][index])\n",
    "    #print(SV_X[index])\n",
    "print(\"The reason why the algorithm make a mistake is that \\nthere are two samples which are not belong to the blue or red cluster,\\nthey may affect the clustering result.\")"
   ]
  },
  {
   "cell_type": "code",
   "execution_count": 5,
   "metadata": {},
   "outputs": [
    {
     "name": "stdout",
     "output_type": "stream",
     "text": [
      "(329, 9)\n",
      "[[ 521 6200  237 ...  996 1405 7633]\n",
      " [ 575 8138 1656 ... 5564 2632 4350]\n",
      " [ 468 7339  618 ...  237  859 5250]\n",
      " ...\n",
      " [ 540 8371  713 ... 1022  842 4946]\n",
      " [ 570 7021 1097 ... 2797 1327 3894]\n",
      " [ 608 7875  212 ...  122  918 4694]]\n"
     ]
    }
   ],
   "source": [
    "# question 4\n",
    "# a.\n",
    "import numpy as np\n",
    "original_X = np.loadtxt('./places.txt', dtype=int, skiprows=1, usecols=(range(1,10)))\n",
    "print(original_X.shape)\n",
    "print(original_X)"
   ]
  },
  {
   "cell_type": "code",
   "execution_count": 6,
   "metadata": {},
   "outputs": [
    {
     "name": "stdout",
     "output_type": "stream",
     "text": [
      "[[2.71683772 3.79239169 2.37474835 ... 2.99825934 3.14767632 3.88269526]\n",
      " [2.75966784 3.91051769 3.21906033 ... 3.74538712 3.42028588 3.63848926]\n",
      " [2.67024585 3.86563689 2.79098848 ... 2.37474835 2.93399316 3.7201593 ]\n",
      " ...\n",
      " [2.73239376 3.92277734 2.85308953 ... 3.0094509  2.92531209 3.69425411]\n",
      " [2.75587486 3.84639897 3.04020663 ... 3.44669247 3.12287092 3.59039595]\n",
      " [2.78390358 3.89625056 2.32633586 ... 2.08635983 2.96284268 3.67154309]]\n"
     ]
    }
   ],
   "source": [
    "# b.\n",
    "log_X = np.log10(original_X)\n",
    "print(log_X)"
   ]
  },
  {
   "cell_type": "code",
   "execution_count": 8,
   "metadata": {},
   "outputs": [
    {
     "name": "stdout",
     "output_type": "stream",
     "text": [
      "SVD result is:\n",
      "[[-3.92452086e-02  1.02677199e-01  3.90333230e-02 ...  1.37559794e-02\n",
      "   2.51463286e-02  3.41573236e-02]\n",
      " [ 5.58069384e-02  1.30637644e-03 -5.97509042e-04 ...  1.71314086e-02\n",
      "  -3.42715602e-02  2.49657732e-04]\n",
      " [-7.84816251e-02 -5.18327089e-02 -1.64211240e-02 ... -2.75906203e-02\n",
      "   3.13453069e-02 -1.34056049e-01]\n",
      " ...\n",
      " [-2.94124158e-02 -3.85336220e-02  1.22077937e-01 ...  9.78163035e-01\n",
      "  -4.61160508e-03 -1.79157347e-03]\n",
      " [ 1.91817163e-02 -1.05808081e-02  4.87040342e-02 ... -6.10704120e-03\n",
      "   9.85021027e-01 -1.96997217e-03]\n",
      " [-1.16027204e-01  3.18230823e-02 -3.82244364e-02 ... -2.33051264e-03\n",
      "  -2.34527287e-03  9.66754441e-01]]\n",
      "\n",
      "The nine principal components computed are:\n",
      "[[ 0.03507288  0.09335159  0.40776448  0.10044536  0.15009714  0.03215319\n",
      "   0.87434057  0.15899622  0.01949418]\n",
      " [ 0.0088782   0.00923057 -0.85853187  0.22042372  0.05920111 -0.06058858\n",
      "   0.30380632  0.33399255  0.0561011 ]\n",
      " [ 0.14087477  0.12884967  0.27605769  0.5926882   0.22089816  0.0081447\n",
      "  -0.36328732  0.58362605  0.12085337]\n",
      " [-0.15274476  0.17838233  0.03516139 -0.72366303  0.12620531  0.00519693\n",
      "  -0.08111571  0.62822609 -0.05216997]\n",
      " [ 0.39751159  0.1753133   0.05032469 -0.01345714 -0.86996951 -0.04779772\n",
      "   0.05506994  0.21328989  0.02965242]\n",
      " [-0.83129501 -0.20905725  0.08967085  0.16401885 -0.37244964 -0.02362804\n",
      "   0.02812147  0.14179906  0.26481279]\n",
      " [-0.0559096   0.6958923  -0.06245284 -0.05553037  0.0724604   0.05738567\n",
      "  -0.0232698  -0.23451524  0.66448592]\n",
      " [-0.31490125  0.61361583 -0.0210358   0.1823479  -0.05714199 -0.20447312\n",
      "  -0.01673991 -0.08353911 -0.66203179]\n",
      " [ 0.06448925 -0.08687702  0.06550333 -0.05421223  0.07183942 -0.97327107\n",
      "   0.00525656 -0.01749472  0.16826376]]\n"
     ]
    }
   ],
   "source": [
    "# c.\n",
    "from sklearn.decomposition import PCA\n",
    "\n",
    "log_X_mean = np.mean(log_X, axis = 0)\n",
    "PRA_X = log_X - log_X_mean\n",
    "\n",
    "U,sigma,VT = np.linalg.svd(PRA_X)\n",
    "\n",
    "pca = PCA(n_components=9)\n",
    "pca.fit(PRA_X)\n",
    "a_9 = pca.components_\n",
    "\n",
    "print(\"SVD result is:\")\n",
    "print(U)\n",
    "print(\"\\nThe nine principal components computed are:\")\n",
    "print(a_9)"
   ]
  },
  {
   "cell_type": "code",
   "execution_count": 14,
   "metadata": {},
   "outputs": [
    {
     "name": "stdout",
     "output_type": "stream",
     "text": [
      "The first two components are:\n",
      "[[ 0.03507288  0.09335159  0.40776448  0.10044536  0.15009714  0.03215319\n",
      "   0.87434057  0.15899622  0.01949418]\n",
      " [ 0.0088782   0.00923057 -0.85853187  0.22042372  0.05920111 -0.06058858\n",
      "   0.30380632  0.33399255  0.0561011 ]]\n",
      "\n",
      "The contribution rate of the first component is 0.38522037156086225\n",
      "The contribution rate of the second component is 0.14167059144919555\n",
      "It is means that they are the top two components which contribute most to the overall variance of the samples.\n",
      "\n",
      "The first component correlate the most with Arts.\n",
      "The second component correlate the most with Healthcare.\n"
     ]
    }
   ],
   "source": [
    "# d.\n",
    "v = a_9[0:2]\n",
    "print(\"The first two components are:\")\n",
    "print(v)\n",
    "print(\"\\nThe contribution rate of the first component is\", sigma[0]/sum(sigma))\n",
    "print(\"The contribution rate of the second component is\", sigma[1]/sum(sigma))\n",
    "print(\"It is means that they are the top two components which contribute most to the overall variance of the samples.\")\n",
    "print(\"\\nThe first component correlate the most with Arts.\")\n",
    "print(\"The second component correlate the most with Healthcare.\")"
   ]
  },
  {
   "cell_type": "code",
   "execution_count": 17,
   "metadata": {},
   "outputs": [
    {
     "data": {
      "image/png": "[encoded data removed]",
      "text/plain": [
       "<Figure size 432x288 with 1 Axes>"
      ]
     },
     "metadata": {
      "needs_background": "light"
     },
     "output_type": "display_data"
    },
    {
     "name": "stdout",
     "output_type": "stream",
     "text": [
      "The index of the outlier sample is:\n",
      "212\n",
      "The city corresponding to the outlier is:\n",
      "New-York,NY\n"
     ]
    }
   ],
   "source": [
    "# e.\n",
    "import matplotlib.pyplot as plt\n",
    "\n",
    "pca = PCA(n_components=2)\n",
    "projected = pca.fit_transform(PRA_X) # alternate way instead of np.matmul\n",
    "\n",
    "plt.scatter(projected[:, 0], projected[:, 1])\n",
    "plt.xlabel('PC1')\n",
    "plt.ylabel('PC2')\n",
    "plt.title('Projection on two principal components')\n",
    "plt.show()\n",
    "\n",
    "for i,num in enumerate(projected[:, 0]):\n",
    "    if num > 1.8:\n",
    "        break\n",
    "        \n",
    "print(\"The index of the outlier sample is:\")\n",
    "print(i)\n",
    "\n",
    "city = np.loadtxt('./places.txt', dtype=str, skiprows=1,usecols=0)\n",
    "print(\"The city corresponding to the outlier is:\")\n",
    "print(city[i])"
   ]
  },
  {
   "cell_type": "code",
   "execution_count": 21,
   "metadata": {},
   "outputs": [
    {
     "name": "stdout",
     "output_type": "stream",
     "text": [
      "SVD result is:\n",
      "[[-0.03111023  0.04479023  0.07424741 ...  0.00862646  0.02317018\n",
      "   0.03505526]\n",
      " [ 0.01315417  0.00376186 -0.05967666 ...  0.00749916 -0.03239994\n",
      "  -0.02119469]\n",
      " [-0.05609457  0.00349753  0.00379062 ... -0.03170198  0.00678741\n",
      "  -0.06312372]\n",
      " ...\n",
      " [-0.05108973 -0.0453497  -0.03400503 ...  0.98767813 -0.00427863\n",
      "  -0.00206827]\n",
      " [-0.02288931 -0.05388877 -0.0497248  ... -0.00495173  0.9901566\n",
      "  -0.00537099]\n",
      " [-0.0516209   0.03660016 -0.05561394 ... -0.00331372 -0.00599734\n",
      "   0.98283172]]\n",
      "\n",
      "The nine principal components computed are:\n",
      "[[ 2.06413954e-01  3.56521608e-01  4.60214647e-01  2.81298380e-01\n",
      "   3.51150781e-01  2.75292636e-01  4.63054489e-01  3.27887907e-01\n",
      "   1.35412251e-01]\n",
      " [ 2.17835308e-01  2.50624000e-01 -2.99465282e-01  3.55342273e-01\n",
      "  -1.79604477e-01 -4.83382093e-01 -1.94789920e-01  3.84474638e-01\n",
      "   4.71283277e-01]\n",
      " [ 6.89955982e-01  2.08172230e-01  7.32492550e-03 -1.85104981e-01\n",
      "  -1.46376283e-01 -2.29702548e-01  2.64842979e-02  5.08526400e-02\n",
      "  -6.07314475e-01]\n",
      " [ 1.37321246e-01  5.11828708e-01  1.47018320e-02 -5.39050473e-01\n",
      "  -3.02903705e-01  3.35411034e-01 -1.01080391e-01 -1.89800816e-01\n",
      "   4.21769940e-01]\n",
      " [-3.69149929e-01  2.33487781e-01 -1.03240518e-01 -5.23939687e-01\n",
      "   4.04348475e-01 -2.08819059e-01 -1.05097637e-01  5.29540576e-01\n",
      "  -1.59620056e-01]\n",
      " [-3.74604694e-01  1.41639825e-01  3.73848037e-01 -8.09232850e-02\n",
      "  -4.67591803e-01 -5.02169811e-01  4.61880719e-01 -8.99157817e-02\n",
      "  -3.26081342e-02]\n",
      " [-8.47057741e-02 -2.30638624e-01  1.38676115e-02  1.86064572e-02\n",
      "  -5.83390970e-01  4.26181860e-01 -2.15251529e-02  6.27877892e-01\n",
      "  -1.49740658e-01]\n",
      " [-3.62308330e-01  6.13855131e-01 -1.85676120e-01  4.30024765e-01\n",
      "  -9.35986618e-02  1.88667565e-01 -2.03989691e-01 -1.50595968e-01\n",
      "  -4.04809255e-01]\n",
      " [ 1.39135150e-03  1.36003402e-02 -7.16354893e-01 -5.86084614e-02\n",
      "   3.62945266e-03  1.10840191e-01  6.85758213e-01 -2.55062915e-02\n",
      "   4.37794248e-04]]\n",
      "\n",
      "The first two components are:\n",
      "[[ 0.20641395  0.35652161  0.46021465  0.28129838  0.35115078  0.27529264\n",
      "   0.46305449  0.32788791  0.13541225]\n",
      " [ 0.21783531  0.250624   -0.29946528  0.35534227 -0.17960448 -0.48338209\n",
      "  -0.19478992  0.38447464  0.47128328]]\n",
      "\n",
      "The contribution rate of the first component is 0.22374614538856205\n",
      "The contribution rate of the second component is 0.13353412270345316\n",
      "It is means that they are the top two components which contribute most to the overall variance of the samples.\n",
      "\n",
      "The first component correlate the most with Arts and Healthcare.\n",
      "The second component correlate the most with Education and Economy.\n",
      "The result changes a lot. There is no pricipal component whose conttibution rate is outstanding.\n",
      "Among each component, there is also no outstanding coefficent.\n"
     ]
    },
    {
     "data": {
      "image/png": "[encoded data removed]",
      "text/plain": [
       "<Figure size 432x288 with 1 Axes>"
      ]
     },
     "metadata": {
      "needs_background": "light"
     },
     "output_type": "display_data"
    },
    {
     "name": "stdout",
     "output_type": "stream",
     "text": [
      "The index of the outlier sample is:\n",
      "212\n",
      "The city corresponding to the outlier is:\n",
      "New-York,NY\n",
      "The result of outlier does not change.\n"
     ]
    }
   ],
   "source": [
    "# f.\n",
    "\n",
    "from sklearn.preprocessing import StandardScaler\n",
    "ss = StandardScaler()\n",
    "std_X = ss.fit_transform(original_X)\n",
    "\n",
    "U,sigma,VT = np.linalg.svd(std_X)\n",
    "\n",
    "pca = PCA(n_components=9)\n",
    "pca.fit(std_X)\n",
    "a_9 = pca.components_\n",
    "\n",
    "print(\"SVD result is:\")\n",
    "print(U)\n",
    "print(\"\\nThe nine principal components computed are:\")\n",
    "print(a_9)\n",
    "\n",
    "v = a_9[0:2]\n",
    "print(\"\\nThe first two components are:\")\n",
    "print(v)\n",
    "print(\"\\nThe contribution rate of the first component is\", sigma[0]/sum(sigma))\n",
    "print(\"The contribution rate of the second component is\", sigma[1]/sum(sigma))\n",
    "print(\"It is means that they are the top two components which contribute most to the overall variance of the samples.\")\n",
    "print(\"\\nThe first component correlate the most with Arts and Healthcare.\")\n",
    "print(\"The second component correlate the most with Education and Economy.\")\n",
    "print(\"The result changes a lot. There is no pricipal component whose conttibution rate is outstanding.\")\n",
    "print(\"Among each component, there is also no outstanding coefficent.\")\n",
    "\n",
    "pca = PCA(n_components=2)\n",
    "projected = pca.fit_transform(std_X) # alternate way instead of np.matmul\n",
    "\n",
    "plt.scatter(projected[:, 0], projected[:, 1])\n",
    "plt.xlabel('PC1')\n",
    "plt.ylabel('PC2')\n",
    "plt.title('Projection on two principal components')\n",
    "plt.show()\n",
    "\n",
    "for i,num in enumerate(projected[:, 0]):\n",
    "    if num > 10:\n",
    "        break\n",
    "        \n",
    "print(\"The index of the outlier sample is:\")\n",
    "print(i)\n",
    "\n",
    "city = np.loadtxt('./places.txt', dtype=str, skiprows=1,usecols=0)\n",
    "print(\"The city corresponding to the outlier is:\")\n",
    "print(city[i])\n",
    "print(\"The result of outlier does not change.\")"
   ]
  },
  {
   "cell_type": "code",
   "execution_count": null,
   "metadata": {},
   "outputs": [],
   "source": []
  }
 ],
 "metadata": {
  "kernelspec": {
   "display_name": "Python 3",
   "language": "python",
   "name": "python3"
  },
  "language_info": {
   "codemirror_mode": {
    "name": "ipython",
    "version": 3
   },
   "file_extension": ".py",
   "mimetype": "text/x-python",
   "name": "python",
   "nbconvert_exporter": "python",
   "pygments_lexer": "ipython3",
   "version": "3.7.4"
  }
 },
 "nbformat": 4,
 "nbformat_minor": 2
}
