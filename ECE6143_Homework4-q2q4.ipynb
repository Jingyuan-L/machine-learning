{
  "nbformat": 4,
  "nbformat_minor": 0,
  "metadata": {
    "colab": {
      "name": "ECE6143-Homework4.ipynb",
      "provenance": []
    },
    "kernelspec": {
      "name": "python3",
      "display_name": "Python 3"
    }
  },
  "cells": [
    {
      "cell_type": "code",
      "metadata": {
        "id": "YbUvssJp1tyw",
        "colab_type": "code",
        "colab": {
          "base_uri": "https://localhost:8080/",
          "height": 298
        },
        "outputId": "88124a4e-e247-483c-d361-ed5f095ee80c"
      },
      "source": [
        "#question 2\n",
        "import pandas as pd\n",
        "import numpy as np\n",
        "import matplotlib.pyplot as plt\n",
        "import math\n",
        "import time\n",
        "\n",
        "#a. generate two clusters of data pointsx and plot\n",
        "\n",
        "x1 = list(np.random.normal(0.5, 0.2, [2,100]))\n",
        "x2 = list(np.random.normal(-0.5, 0.2, [2,100]))\n",
        "x = np.hstack((x1, x2)).T\n",
        "print(x.shape)\n",
        "\n",
        "y1 = [[1] * 100]\n",
        "y2 = [[-1] * 100]\n",
        "y = np.hstack((y1, y2)).T\n",
        "#print(y.shape)\n",
        "\n",
        "plt.title('original data point')\n",
        "plt.plot(x1[0], x1[1], 'o')\n",
        "plt.plot(x2[0], x2[1], 'o')\n",
        "plt.grid(True)\n",
        "#print(x)"
      ],
      "execution_count": 1,
      "outputs": [
        {
          "output_type": "stream",
          "text": [
            "(200, 2)\n"
          ],
          "name": "stdout"
        },
        {
          "output_type": "display_data",
          "data": {
            "image/png": "[encoded data removed]",
            "text/plain": [
              "<Figure size 432x288 with 1 Axes>"
            ]
          },
          "metadata": {
            "tags": []
          }
        }
      ]
    },
    {
      "cell_type": "code",
      "metadata": {
        "id": "6Wg-I6oh16Hc",
        "colab_type": "code",
        "colab": {
          "base_uri": "https://localhost:8080/",
          "height": 349
        },
        "outputId": "01da5e51-5037-4fb5-cbd2-186165f03e15"
      },
      "source": [
        "#b. Implement the Perceptron algorithm\n",
        "\n",
        "#initialize Weights to zero values\n",
        "W=[0, 0]\n",
        "#print(W)\n",
        "# set some learning rate for gradient descent\n",
        "lr = 1\n",
        "T = 100\n",
        "ws = []\n",
        "ws.append(W)\n",
        "def perceptron(W, lr, T, x, y, ws):\n",
        "    for epoch in range(T):\n",
        "        #print(epoch)\n",
        "        for i in range(len(x)):\n",
        "            #print(i)\n",
        "            # update weights if the prediction is wrong\n",
        "            inner = x[i].dot(ws[-1])\n",
        "            #print(\"i = \" + str(i) +\"inner\"+ str(inner))\n",
        "            sign = 0\n",
        "            if inner < 0:\n",
        "                sign = -1\n",
        "            else:\n",
        "                sign = 1\n",
        "                \n",
        "            if y[i] != sign: \n",
        "                # update weights if the point is incorrectly classified\n",
        "                # W(t+1) = W(t) + lr * y_i*x_i\n",
        "                W = W + (lr)*y[i]*x[i,:]\n",
        "                #print(W)\n",
        "                ws.append(list(W))\n",
        "            else:\n",
        "                continue\n",
        "        if ws and ws[-1] == list(W):\n",
        "            #print(ws)\n",
        "            break\n",
        "    return epoch, ws\n",
        "\n",
        "import time\n",
        "start = time.perf_counter()               \n",
        "t, ws = perceptron(W, lr, T, x, y, ws)\n",
        "end = time.perf_counter()\n",
        "time = end - start\n",
        "print(\"My implementation converge in \" + str(t+1) + \" epoch.\")\n",
        "print(\"The collection of W is:\")\n",
        "print(ws)\n",
        "print(\"My implementation converge time is: \" + str(time) + \" s\")\n",
        "\n",
        "plt.figure(1)\n",
        "plt.plot(x1[0], x1[1], 'o')\n",
        "plt.plot(x2[0], x2[1], 'o')\n",
        "plt.grid(True)\n",
        "\n",
        "x1model = np.array([-1,1,0.1])\n",
        "x2model = np.array([-1,1,0.1])\n",
        "ymodel = (-ws[-1][0]*x2model - ws[-1][1]* x1model) \n",
        "plt.plot(x1model, ymodel, 'c')\n"
      ],
      "execution_count": 2,
      "outputs": [
        {
          "output_type": "stream",
          "text": [
            "My implementation converge in 1 epoch.\n",
            "The collection of W is:\n",
            "[[0, 0], [0.441316573852135, 0.3302737279931869]]\n",
            "My implementation converge time is: 0.002850945999966825 s\n"
          ],
          "name": "stdout"
        },
        {
          "output_type": "execute_result",
          "data": {
            "text/plain": [
              "[<matplotlib.lines.Line2D at 0x7fb780558a58>]"
            ]
          },
          "metadata": {
            "tags": []
          },
          "execution_count": 2
        },
        {
          "output_type": "display_data",
          "data": {
            "image/png": "[encoded data removed]",
            "text/plain": [
              "<Figure size 432x288 with 1 Axes>"
            ]
          },
          "metadata": {
            "tags": []
          }
        }
      ]
    },
    {
      "cell_type": "code",
      "metadata": {
        "id": "jRdDSwQt1-Ej",
        "colab_type": "code",
        "colab": {
          "base_uri": "https://localhost:8080/",
          "height": 385
        },
        "outputId": "b461c3f6-e1cc-4bce-8403-1af31ff15385"
      },
      "source": [
        "#c. data points from different classes now overlap\n",
        "\n",
        "x3 = list(np.random.normal(0.5, 0.4, [2,100]))\n",
        "x4 = list(np.random.normal(-0.5, 0.4, [2,100]))\n",
        "xc = np.hstack((x3, x4)).T\n",
        "#print(x.shape)\n",
        "\n",
        "y3 = [[1] * 100]\n",
        "y4 = [[-1] * 100]\n",
        "yc = np.hstack((y3, y4)).T\n",
        "#print(y.shape)\n",
        "\n",
        "plt.figure(1)\n",
        "plt.title('original data point')\n",
        "plt.plot(x3[0], x3[1], 'o')\n",
        "plt.plot(x4[0], x4[1], 'o')\n",
        "plt.grid(True)\n",
        "\n",
        "#initialize Weights to zero values\n",
        "#W = np.random.normal([2,1])\n",
        "W1=[0, 0]\n",
        "#print(W)\n",
        "# set some learning rate for gradient descent\n",
        "lr = 1\n",
        "T = 100\n",
        "ws1 = []\n",
        "ws1.append(W1)\n",
        "\n",
        "import time\n",
        "startc = time.perf_counter()               \n",
        "t1, ws1 = perceptron(W1, lr, T, xc, yc, ws1)\n",
        "endc = time.perf_counter()\n",
        "timec = endc - startc\n",
        "print(\"My implementation converge in \" + str(t1+1) + \" epoch\")\n",
        "print(\"The collection of W is:\")\n",
        "print(ws1)\n",
        "print(\"My implementation converge time is: \" + str(timec) + \" s\")\n",
        "\n",
        "plt.figure(1)\n",
        "x1model = np.array([-1,1,0.1])\n",
        "ymodel1 = (-ws1[-1][0]* x1model - ws1[-1][1]* x1model) \n",
        "plt.plot(x1model, ymodel1, 'c')"
      ],
      "execution_count": 3,
      "outputs": [
        {
          "output_type": "stream",
          "text": [
            "My implementation converge in 1 epoch\n",
            "The collection of W is:\n",
            "[[0, 0], [1.2213780866052768, 0.9780627851725172], [1.5578969395058595, 0.469949303267887], [1.3421919472639348, -0.20968232365363293], [1.3721505333820185, 0.0676147298475242], [1.3388028332365591, -0.32147048382149473], [1.3708871863985543, 0.0728061988257554], [1.218996396180988, 0.44143199258214944]]\n",
            "My implementation converge time is: 0.0008596459999807848 s\n"
          ],
          "name": "stdout"
        },
        {
          "output_type": "execute_result",
          "data": {
            "text/plain": [
              "[<matplotlib.lines.Line2D at 0x7fb7804dd358>]"
            ]
          },
          "metadata": {
            "tags": []
          },
          "execution_count": 3
        },
        {
          "output_type": "display_data",
          "data": {
            "image/png": "[encoded data removed]",
            "text/plain": [
              "<Figure size 432x288 with 1 Axes>"
            ]
          },
          "metadata": {
            "tags": []
          }
        }
      ]
    },
    {
      "cell_type": "code",
      "metadata": {
        "id": "qkBCFKJu2Doc",
        "colab_type": "code",
        "colab": {
          "base_uri": "https://localhost:8080/",
          "height": 313
        },
        "outputId": "8560c268-1588-4df8-c796-f7162975d160"
      },
      "source": [
        "# Question 4\n",
        "# a. Load the dataset\n",
        "\n",
        "import tensorflow as tf\n",
        "from tensorflow import keras\n",
        "fashion_mnist = keras.datasets.fashion_mnist\n",
        "(train_images, train_labels), (test_images, test_labels) = fashion_mnist.load_data()\n",
        "\n",
        "print(train_images.shape)\n",
        "print(test_images.shape)\n",
        "\n",
        "classes = set(train_labels)\n",
        "plt.figure(figsize=(10,4))\n",
        "place = 0\n",
        "for index, (image, label) in enumerate(zip(train_images,train_labels)):\n",
        "    if label in classes:\n",
        "        classes.remove(label)\n",
        "        plt.subplot(2,5,place + 1)\n",
        "        place += 1\n",
        "        plt.imshow(np.reshape(image,(28,28)), cmap=plt.cm.gray)\n",
        "        plt.title(label)\n",
        "    if not classes:\n",
        "        break\n",
        "\n",
        "#In order to reduceing train time, only ues 12000 images to train and 2000 images to test\n",
        "train_images = train_images.reshape(60000, 784)[:12000]\n",
        "train_labels = train_labels.reshape(60000, 1)[:12000]\n",
        "test_images = test_images.reshape(10000, 784)[:2000]\n",
        "test_labels = test_labels.reshape(10000, 1)[:2000]"
      ],
      "execution_count": 26,
      "outputs": [
        {
          "output_type": "stream",
          "text": [
            "(60000, 28, 28)\n",
            "(10000, 28, 28)\n"
          ],
          "name": "stdout"
        },
        {
          "output_type": "display_data",
          "data": {
            "image/png": "[encoded data removed]",
            "text/plain": [
              "<Figure size 720x288 with 10 Axes>"
            ]
          },
          "metadata": {
            "tags": []
          }
        }
      ]
    },
    {
      "cell_type": "code",
      "metadata": {
        "id": "FgC2dOts2LzE",
        "colab_type": "code",
        "colab": {
          "base_uri": "https://localhost:8080/",
          "height": 188
        },
        "outputId": "c203924f-7b8c-4bcd-9039-120cf99b3873"
      },
      "source": [
        "# b.c.d. for k-NN method\n",
        "\n",
        "from sklearn import neighbors\n",
        "knn = neighbors.KNeighborsClassifier(1)\n",
        "print(\"K-NN method train-running time:\")\n",
        "%time knn.fit(train_images, train_labels)\n",
        "print(\"K-NN method test-running time:\")\n",
        "%time knn_score = knn.score(test_images, test_labels)\n",
        "print(\"K-NN test-error is:\", 1-knn_score)"
      ],
      "execution_count": 27,
      "outputs": [
        {
          "output_type": "stream",
          "text": [
            "K-NN method train-running time:\n"
          ],
          "name": "stdout"
        },
        {
          "output_type": "stream",
          "text": [
            "/usr/local/lib/python3.6/dist-packages/ipykernel_launcher.py:1: DataConversionWarning: A column-vector y was passed when a 1d array was expected. Please change the shape of y to (n_samples, ), for example using ravel().\n",
            "  \"\"\"Entry point for launching an IPython kernel.\n"
          ],
          "name": "stderr"
        },
        {
          "output_type": "stream",
          "text": [
            "CPU times: user 1.67 s, sys: 2 ms, total: 1.68 s\n",
            "Wall time: 1.68 s\n",
            "K-NN method test-running time:\n",
            "CPU times: user 39.6 s, sys: 3.93 ms, total: 39.6 s\n",
            "Wall time: 39.7 s\n",
            "K-NN test-error is: 0.1885\n"
          ],
          "name": "stdout"
        }
      ]
    },
    {
      "cell_type": "code",
      "metadata": {
        "id": "x_fks6KGAYTM",
        "colab_type": "code",
        "colab": {
          "base_uri": "https://localhost:8080/",
          "height": 322
        },
        "outputId": "9a4c8fd3-daf6-4126-84a7-7d5d56262995"
      },
      "source": [
        "# b.c.d. for logistic regression\n",
        "\n",
        "from sklearn.linear_model import LogisticRegression\n",
        "logisticReg = LogisticRegression()\n",
        "print(\"Logistic regression train-running time:\")\n",
        "%time logisticReg.fit(train_images, train_labels)\n",
        "print(\"Logistic regression test-running time:\")\n",
        "%time logistic_score = logisticReg.score(test_images, test_labels)\n",
        "print(\"Logistic regression test-error is:\", 1-logistic_score)"
      ],
      "execution_count": 28,
      "outputs": [
        {
          "output_type": "stream",
          "text": [
            "Logistic regression train-running time:\n"
          ],
          "name": "stdout"
        },
        {
          "output_type": "stream",
          "text": [
            "/usr/local/lib/python3.6/dist-packages/sklearn/utils/validation.py:760: DataConversionWarning: A column-vector y was passed when a 1d array was expected. Please change the shape of y to (n_samples, ), for example using ravel().\n",
            "  y = column_or_1d(y, warn=True)\n"
          ],
          "name": "stderr"
        },
        {
          "output_type": "stream",
          "text": [
            "CPU times: user 12.5 s, sys: 1.65 s, total: 14.2 s\n",
            "Wall time: 7.22 s\n",
            "Logistic regression test-running time:\n",
            "CPU times: user 10.3 ms, sys: 4.99 ms, total: 15.3 ms\n",
            "Wall time: 7.68 ms\n",
            "Logistic regression test-error is: 0.16449999999999998\n"
          ],
          "name": "stdout"
        },
        {
          "output_type": "stream",
          "text": [
            "/usr/local/lib/python3.6/dist-packages/sklearn/linear_model/_logistic.py:940: ConvergenceWarning: lbfgs failed to converge (status=1):\n",
            "STOP: TOTAL NO. of ITERATIONS REACHED LIMIT.\n",
            "\n",
            "Increase the number of iterations (max_iter) or scale the data as shown in:\n",
            "    https://scikit-learn.org/stable/modules/preprocessing.html\n",
            "Please also refer to the documentation for alternative solver options:\n",
            "    https://scikit-learn.org/stable/modules/linear_model.html#logistic-regression\n",
            "  extra_warning_msg=_LOGISTIC_SOLVER_CONVERGENCE_MSG)\n"
          ],
          "name": "stderr"
        }
      ]
    },
    {
      "cell_type": "code",
      "metadata": {
        "id": "9CVZP26-AkRK",
        "colab_type": "code",
        "colab": {
          "base_uri": "https://localhost:8080/",
          "height": 339
        },
        "outputId": "b2035cc9-65d1-4f1d-ed22-5d3c25cab049"
      },
      "source": [
        "# b.c.d. for SVM\n",
        "from sklearn import svm\n",
        "\n",
        "#linear kernel\n",
        "svc = svm.SVC(probability=False,kernel=\"linear\",C=3)\n",
        "print(\"SVM with linear kernel train-running time:\")\n",
        "%time svc.fit(train_images,train_labels)\n",
        "print(\"SVM with linear kernel test-running time:\")\n",
        "%time svm_linear_score = svc.score(test_images, test_labels)\n",
        "print(\"SVM with linear kernel test-error is:\", 1-svm_linear_score)\n",
        "\n",
        "#rbf kernel\n",
        "svmrbf = svm.SVC(probability=False,kernel='rbf',C=3)\n",
        "print(\"SVM with rbf kernel train-running time:\")\n",
        "%time svmrbf.fit(train_images,train_labels)\n",
        "print(\"SVM with rbf kernel test-running time:\")\n",
        "%time svm_rbf_score = svmrbf.score(test_images, test_labels)\n",
        "print(\"SVM with rbf kernel test-error is:\", 1-svm_rbf_score)"
      ],
      "execution_count": 29,
      "outputs": [
        {
          "output_type": "stream",
          "text": [
            "SVM with linear kernel train-running time:\n"
          ],
          "name": "stdout"
        },
        {
          "output_type": "stream",
          "text": [
            "/usr/local/lib/python3.6/dist-packages/sklearn/utils/validation.py:760: DataConversionWarning: A column-vector y was passed when a 1d array was expected. Please change the shape of y to (n_samples, ), for example using ravel().\n",
            "  y = column_or_1d(y, warn=True)\n"
          ],
          "name": "stderr"
        },
        {
          "output_type": "stream",
          "text": [
            "CPU times: user 1min 56s, sys: 103 ms, total: 1min 56s\n",
            "Wall time: 1min 57s\n",
            "SVM with linear kernel test-running time:\n",
            "CPU times: user 10.1 s, sys: 3.05 ms, total: 10.1 s\n",
            "Wall time: 10.1 s\n",
            "SVM with linear kernel test-error is: 0.19599999999999995\n",
            "SVM with rbf kernel train-running time:\n"
          ],
          "name": "stdout"
        },
        {
          "output_type": "stream",
          "text": [
            "/usr/local/lib/python3.6/dist-packages/sklearn/utils/validation.py:760: DataConversionWarning: A column-vector y was passed when a 1d array was expected. Please change the shape of y to (n_samples, ), for example using ravel().\n",
            "  y = column_or_1d(y, warn=True)\n"
          ],
          "name": "stderr"
        },
        {
          "output_type": "stream",
          "text": [
            "CPU times: user 39.5 s, sys: 5.04 ms, total: 39.6 s\n",
            "Wall time: 39.6 s\n",
            "SVM with rbf kernel test-running time:\n",
            "CPU times: user 13.1 s, sys: 2 ms, total: 13.1 s\n",
            "Wall time: 13.1 s\n",
            "SVM with rbf kernel test-error is: 0.126\n"
          ],
          "name": "stdout"
        }
      ]
    }
  ]
}